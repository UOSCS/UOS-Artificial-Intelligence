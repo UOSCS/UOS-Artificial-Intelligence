{
 "cells": [
  {
   "cell_type": "code",
   "execution_count": 327,
   "id": "22f76d7f",
   "metadata": {},
   "outputs": [],
   "source": [
    "import numpy as np\n",
    "import pandas as pd\n",
    "\n",
    "import csv\n",
    "\n",
    "import torch\n",
    "import torch.nn as nn\n",
    "import torch.optim as optim\n",
    "from torch.utils.data import random_split\n",
    "from torch.utils.data import Dataset\n",
    "from torch.utils.data import DataLoader\n",
    "\n",
    "from sklearn.preprocessing import StandardScaler\n",
    "from sklearn.model_selection import train_test_split\n",
    "\n",
    "import matplotlib.pyplot as plt"
   ]
  },
  {
   "cell_type": "code",
   "execution_count": 328,
   "id": "21e41714",
   "metadata": {},
   "outputs": [
    {
     "data": {
      "text/plain": [
       "array([[ 7.  ,  0.27,  0.36, ...,  0.45,  8.8 ,  6.  ],\n",
       "       [ 6.3 ,  0.3 ,  0.34, ...,  0.49,  9.5 ,  6.  ],\n",
       "       [ 8.1 ,  0.28,  0.4 , ...,  0.44, 10.1 ,  6.  ],\n",
       "       ...,\n",
       "       [ 6.5 ,  0.24,  0.19, ...,  0.46,  9.4 ,  6.  ],\n",
       "       [ 5.5 ,  0.29,  0.3 , ...,  0.38, 12.8 ,  7.  ],\n",
       "       [ 6.  ,  0.21,  0.38, ...,  0.32, 11.8 ,  6.  ]], dtype=float32)"
      ]
     },
     "execution_count": 328,
     "metadata": {},
     "output_type": "execute_result"
    }
   ],
   "source": [
    "# 와인 데이터 가져오기\n",
    "# numpy로 표현\n",
    "wine_path = \"./winequality-white.csv\"\n",
    "wine_numpy = np.loadtxt(wine_path, dtype=np.float32, delimiter=\";\", skiprows=1)\n",
    "wine_numpy"
   ]
  },
  {
   "cell_type": "code",
   "execution_count": 329,
   "id": "6fe7cd5b",
   "metadata": {},
   "outputs": [],
   "source": [
    "# 마지막 컬럼은 target\n",
    "# input(X), target(y) 분리하기\n",
    "n_features = np.size(wine_numpy, 1) - 1\n",
    "\n",
    "X = wine_numpy[:, 0:n_features]\n",
    "y = wine_numpy[:, n_features]"
   ]
  },
  {
   "cell_type": "code",
   "execution_count": 330,
   "id": "6995ec9f",
   "metadata": {},
   "outputs": [],
   "source": [
    "# train, val, test 분리\n",
    "# Pytorch DataLoader, random_split 써도 됨\n",
    "# 6:2:2\n",
    "X_train, X_test, y_train, y_test = train_test_split(X, y, stratify=y, test_size=0.2, random_state=42)\n",
    "X_train, X_val, y_train, y_val = train_test_split(X_train, y_train, stratify=y_train, test_size=0.25, random_state=42)"
   ]
  },
  {
   "cell_type": "code",
   "execution_count": 331,
   "id": "ae77b632",
   "metadata": {},
   "outputs": [],
   "source": [
    "# input 정규화\n",
    "scaler = StandardScaler()\n",
    "scaler.fit(X)\n",
    "X_train_scaled = torch.tensor(scaler.transform(X_train))\n",
    "X_val_scaled = torch.tensor(scaler.transform(X_val))\n",
    "X_test_scaled = torch.tensor(scaler.transform(X_test))"
   ]
  },
  {
   "cell_type": "code",
   "execution_count": 332,
   "id": "ff15d5c4",
   "metadata": {},
   "outputs": [],
   "source": [
    "# y 차원 추가\n",
    "y_train = torch.tensor(y_train).unsqueeze(1)\n",
    "y_val = torch.tensor(y_val).unsqueeze(1)\n",
    "y_test = torch.tensor(y_test).unsqueeze(1)"
   ]
  },
  {
   "cell_type": "code",
   "execution_count": 333,
   "id": "9fe87218",
   "metadata": {},
   "outputs": [],
   "source": [
    "def training_loop(n_epochs, optimizer, scheduler, model, loss_fn, X_train, y_train, X_val, y_val):\n",
    "    # 시각화용 loss 배열\n",
    "    train_losses = []\n",
    "    val_losses = []\n",
    "    \n",
    "    # 학습\n",
    "    for epoch in range(1, n_epochs + 1):\n",
    "        # training\n",
    "        model.train()\n",
    "        train_predict = model(X_train)\n",
    "        train_loss = loss_fn(train_predict, y_train)\n",
    "        \n",
    "        # just evaluation\n",
    "        with torch.no_grad():\n",
    "            model.eval()\n",
    "            val_predict = model(X_val)\n",
    "            val_loss = loss_fn(val_predict, y_val)\n",
    "            \n",
    "        # backward 전 gradients 비우기\n",
    "        # optimizer.zero_grad()보다 메모리 접근 횟수 적음, 성능에 유리\n",
    "        for param in model.parameters():\n",
    "            param.grad = None\n",
    "        # 기울기 계산\n",
    "        train_loss.backward()\n",
    "        # parameters 업데이트\n",
    "        optimizer.step()\n",
    "        # learning rate decay\n",
    "        scheduler.step()\n",
    "        \n",
    "        #시각화용 배열에 loss 추가\n",
    "        if epoch > 150:\n",
    "            train_losses.append([epoch, train_loss])\n",
    "            val_losses.append([epoch, val_loss])\n",
    "        \n",
    "        # 디버깅용 출력\n",
    "        if epoch <= 3 or epoch % 500 == 0:\n",
    "            print(f\"Epoch {epoch}, Training loss {train_loss.item():.4f}, \"f\" Validation loss {val_loss.item():.4f}\")\n",
    "            \n",
    "    return train_losses, val_losses"
   ]
  },
  {
   "cell_type": "code",
   "execution_count": 334,
   "id": "90b0ec60",
   "metadata": {},
   "outputs": [],
   "source": [
    "n_epochs = 5000\n",
    "\n",
    "seq_model = nn.Sequential(\n",
    "    nn.Linear(n_features, 128),\n",
    "    nn.ReLU(),\n",
    "    nn.Linear(128, 128),\n",
    "    nn.ReLU(),\n",
    "    nn.Linear(128, 64),\n",
    "    nn.ReLU(),\n",
    "    nn.Linear(64, 1))\n",
    "\n",
    "learning_rate = 1e-2\n",
    "\n",
    "optimizer = optim.Adam(seq_model.parameters(), lr=learning_rate)\n",
    "\n",
    "scheduler = optim.lr_scheduler.ExponentialLR(optimizer, gamma=0.999)\n",
    "\n",
    "loss_fn = nn.MSELoss()"
   ]
  },
  {
   "cell_type": "code",
   "execution_count": 335,
   "id": "8e6cd568",
   "metadata": {},
   "outputs": [
    {
     "name": "stdout",
     "output_type": "stream",
     "text": [
      "Epoch 1, Training loss 35.2790,  Validation loss 35.2875\n",
      "Epoch 2, Training loss 28.0489,  Validation loss 28.1671\n",
      "Epoch 3, Training loss 15.5996,  Validation loss 15.8081\n",
      "Epoch 500, Training loss 0.3305,  Validation loss 0.4631\n",
      "Epoch 1000, Training loss 0.2358,  Validation loss 0.5048\n",
      "Epoch 1500, Training loss 0.1796,  Validation loss 0.5402\n",
      "Epoch 2000, Training loss 0.1472,  Validation loss 0.5695\n",
      "Epoch 2500, Training loss 0.1263,  Validation loss 0.5926\n",
      "Epoch 3000, Training loss 0.1104,  Validation loss 0.6095\n",
      "Epoch 3500, Training loss 0.1004,  Validation loss 0.6255\n",
      "Epoch 4000, Training loss 0.0932,  Validation loss 0.6350\n",
      "Epoch 4500, Training loss 0.0880,  Validation loss 0.6429\n",
      "Epoch 5000, Training loss 0.0841,  Validation loss 0.6482\n"
     ]
    }
   ],
   "source": [
    "train_losses, val_losses = training_loop(\n",
    "    n_epochs=n_epochs,\n",
    "    optimizer=optimizer,\n",
    "    scheduler=scheduler,\n",
    "    model=seq_model,\n",
    "    loss_fn=loss_fn,\n",
    "    X_train=X_train_scaled,\n",
    "    y_train=y_train,\n",
    "    X_val=X_val_scaled,\n",
    "    y_val=y_val)"
   ]
  },
  {
   "cell_type": "code",
   "execution_count": 336,
   "id": "10b30fac",
   "metadata": {},
   "outputs": [
    {
     "data": {
      "image/png": "[encoded data removed]",
      "text/plain": [
       "<Figure size 432x288 with 1 Axes>"
      ]
     },
     "metadata": {
      "needs_background": "light"
     },
     "output_type": "display_data"
    }
   ],
   "source": [
    "# train loss vs validation loss 비교\n",
    "train_losses = np.array(train_losses)\n",
    "val_losses = np.array(val_losses)\n",
    "\n",
    "plt.title('loss graph')\n",
    "plt.plot(train_losses[:, 0], train_losses[:, 1], c='g', label='train')\n",
    "plt.plot(val_losses[:, 0], val_losses[:, 1], c='r', label='val')\n",
    "plt.xlabel('epoch')\n",
    "plt.ylabel('loss')\n",
    "plt.legend(loc='upper right')\n",
    "plt.show()"
   ]
  },
  {
   "cell_type": "code",
   "execution_count": 337,
   "id": "d2b5e658",
   "metadata": {},
   "outputs": [
    {
     "name": "stdout",
     "output_type": "stream",
     "text": [
      "tensor(0.6834, grad_fn=<MseLossBackward0>)\n"
     ]
    }
   ],
   "source": [
    "# test loss 출력\n",
    "test_predict = seq_model(X_test_scaled)\n",
    "test_loss = loss_fn(test_predict, y_test)\n",
    "print(test_loss)"
   ]
  },
  {
   "cell_type": "code",
   "execution_count": 338,
   "id": "d951b265",
   "metadata": {},
   "outputs": [],
   "source": [
    "# 모델에 dropout 추가해서 val, test loss 줄여보기\n",
    "do_seq_model = nn.Sequential(\n",
    "    nn.Linear(n_features, 128),\n",
    "    nn.Dropout(),\n",
    "    nn.ReLU(),\n",
    "    nn.Linear(128, 128),\n",
    "    nn.ReLU(),\n",
    "    nn.Dropout(),\n",
    "    nn.Linear(128, 64),\n",
    "    nn.ReLU(),\n",
    "    nn.Dropout(),\n",
    "    nn.Linear(64, 1))\n",
    "\n",
    "do_optimizer = optim.Adam(do_seq_model.parameters(), lr=learning_rate)\n",
    "\n",
    "do_scheduler = optim.lr_scheduler.ExponentialLR(do_optimizer, gamma=0.999)"
   ]
  },
  {
   "cell_type": "code",
   "execution_count": 339,
   "id": "6d87c64e",
   "metadata": {},
   "outputs": [
    {
     "name": "stdout",
     "output_type": "stream",
     "text": [
      "Epoch 1, Training loss 35.2305,  Validation loss 34.8353\n",
      "Epoch 2, Training loss 28.5883,  Validation loss 29.3732\n",
      "Epoch 3, Training loss 18.4416,  Validation loss 18.9823\n",
      "Epoch 500, Training loss 1.2033,  Validation loss 0.5387\n",
      "Epoch 1000, Training loss 0.9674,  Validation loss 0.5155\n",
      "Epoch 1500, Training loss 0.7969,  Validation loss 0.4978\n",
      "Epoch 2000, Training loss 0.7229,  Validation loss 0.4904\n",
      "Epoch 2500, Training loss 0.6456,  Validation loss 0.4914\n",
      "Epoch 3000, Training loss 0.6312,  Validation loss 0.4906\n",
      "Epoch 3500, Training loss 0.5963,  Validation loss 0.4862\n",
      "Epoch 4000, Training loss 0.5817,  Validation loss 0.4879\n",
      "Epoch 4500, Training loss 0.5936,  Validation loss 0.4883\n",
      "Epoch 5000, Training loss 0.5739,  Validation loss 0.4872\n"
     ]
    }
   ],
   "source": [
    "do_train_losses, do_val_losses = training_loop(\n",
    "    n_epochs=n_epochs,\n",
    "    optimizer=do_optimizer,\n",
    "    scheduler=do_scheduler,\n",
    "    model=do_seq_model,\n",
    "    loss_fn=loss_fn,\n",
    "    X_train=X_train_scaled,\n",
    "    y_train=y_train,\n",
    "    X_val=X_val_scaled,\n",
    "    y_val=y_val)"
   ]
  },
  {
   "cell_type": "code",
   "execution_count": 340,
   "id": "36d1b21b",
   "metadata": {},
   "outputs": [
    {
     "data": {
      "image/png": "[encoded data removed]",
      "text/plain": [
       "<Figure size 432x288 with 1 Axes>"
      ]
     },
     "metadata": {
      "needs_background": "light"
     },
     "output_type": "display_data"
    }
   ],
   "source": [
    "# train loss vs validation loss 비교\n",
    "do_train_losses = np.array(do_train_losses)\n",
    "do_val_losses = np.array(do_val_losses)\n",
    "\n",
    "plt.title('loss graph with dropout')\n",
    "plt.plot(do_train_losses[:, 0], do_train_losses[:, 1], c='g', label='train')\n",
    "plt.plot(do_val_losses[:, 0], do_val_losses[:, 1], c='r', label='val')\n",
    "plt.xlabel('epoch')\n",
    "plt.ylabel('loss')\n",
    "plt.legend(loc='upper right')\n",
    "plt.show()"
   ]
  },
  {
   "cell_type": "code",
   "execution_count": 341,
   "id": "fa2f296d",
   "metadata": {},
   "outputs": [
    {
     "name": "stdout",
     "output_type": "stream",
     "text": [
      "tensor(0.4849, grad_fn=<MseLossBackward0>)\n"
     ]
    }
   ],
   "source": [
    "# test loss 출력\n",
    "do_test_predict = do_seq_model(X_test_scaled)\n",
    "do_test_loss = loss_fn(do_test_predict, y_test)\n",
    "print(do_test_loss)"
   ]
  },
  {
   "cell_type": "code",
   "execution_count": 342,
   "id": "5e653107",
   "metadata": {},
   "outputs": [
    {
     "data": {
      "image/png": "[encoded data removed]",
      "text/plain": [
       "<Figure size 432x288 with 1 Axes>"
      ]
     },
     "metadata": {
      "needs_background": "light"
     },
     "output_type": "display_data"
    }
   ],
   "source": [
    "# without dropout vs with dropout validation loss 비교하기\n",
    "plt.title('compare validation loss')\n",
    "plt.plot(val_losses[:, 0], val_losses[:, 1], c='b', label='wo do')\n",
    "plt.plot(do_val_losses[:, 0], do_val_losses[:, 1], c='m', label='w do')\n",
    "plt.xlabel('epoch')\n",
    "plt.ylabel('loss')\n",
    "plt.legend(loc='upper right')\n",
    "plt.show()"
   ]
  },
  {
   "cell_type": "code",
   "execution_count": 344,
   "id": "071c538d",
   "metadata": {},
   "outputs": [
    {
     "name": "stdout",
     "output_type": "stream",
     "text": [
      "Test Loss without Dropout: 0.6834366917610168\n",
      "Test Loss with Dropout: 0.48485901951789856\n"
     ]
    }
   ],
   "source": [
    "# without dropout vs with dropout test loss 비교하기\n",
    "print(f\"Test Loss without Dropout: {test_loss}\")\n",
    "print(f\"Test Loss with Dropout: {do_test_loss}\")"
   ]
  },
  {
   "cell_type": "code",
   "execution_count": null,
   "id": "8fef4520",
   "metadata": {},
   "outputs": [],
   "source": []
  }
 ],
 "metadata": {
  "kernelspec": {
   "display_name": "Python 3 (ipykernel)",
   "language": "python",
   "name": "python3"
  },
  "language_info": {
   "codemirror_mode": {
    "name": "ipython",
    "version": 3
   },
   "file_extension": ".py",
   "mimetype": "text/x-python",
   "name": "python",
   "nbconvert_exporter": "python",
   "pygments_lexer": "ipython3",
   "version": "3.8.12"
  }
 },
 "nbformat": 4,
 "nbformat_minor": 5
}
