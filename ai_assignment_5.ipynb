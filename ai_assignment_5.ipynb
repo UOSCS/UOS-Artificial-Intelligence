{
 "cells": [
  {
   "cell_type": "code",
   "execution_count": 85,
   "id": "02a9e6bf",
   "metadata": {},
   "outputs": [],
   "source": [
    "import numpy as np\n",
    "import torch\n",
    "import torch.optim as optim\n",
    "\n",
    "import matplotlib.pyplot as plt\n",
    "\n",
    "from sklearn.preprocessing import StandardScaler"
   ]
  },
  {
   "cell_type": "code",
   "execution_count": 86,
   "id": "b9385ab8",
   "metadata": {},
   "outputs": [],
   "source": [
    "def model(X, Theta):\n",
    "    return torch.matmul(X, Theta)\n",
    "\n",
    "def loss_fn(X_predict, y):\n",
    "    return torch.mean((X_predict - y) ** 2)\n",
    "\n",
    "def get_X_split_indices(X, ratio):\n",
    "    n_samples = X.shape[0]\n",
    "    n_test = int(ratio * n_samples)\n",
    "    shuffled_indices = torch.randperm(n_samples)\n",
    "    train_indices = shuffled_indices[:-n_test]\n",
    "    test_indices = shuffled_indices[-n_test:]\n",
    "    \n",
    "    return train_indices, test_indices\n",
    "\n",
    "def training_loop(optimizer, X_train, y_train, X_val, y_val, Theta, n_epochs):\n",
    "    train_predict = []\n",
    "    val_predict = []\n",
    "    \n",
    "    for epoch in range(1, n_epochs + 1):\n",
    "        X_train_predict = model(X_train, Theta)\n",
    "        train_loss = loss_fn(X_train_predict, y_train)\n",
    "        \n",
    "        with torch.no_grad():\n",
    "            X_val_predict = model(X_val, Theta)\n",
    "            val_loss = loss_fn(X_val_predict, y_val)\n",
    "            \n",
    "        optimizer.zero_grad()\n",
    "        train_loss.backward()\n",
    "        optimizer.step()\n",
    "        \n",
    "        if epoch > 500:\n",
    "            train_predict.append(train_loss)\n",
    "            val_predict.append(val_loss)\n",
    "        \n",
    "        if epoch <= 3 or epoch % 500 == 0:\n",
    "            print(f\"Epoch {epoch}, Training loss {train_loss.item():.4f}, \"f\" Validation loss {val_loss.item():.4f}\")\n",
    "    \n",
    "    return Theta, train_predict, val_predict"
   ]
  },
  {
   "cell_type": "code",
   "execution_count": 87,
   "id": "5f7b322f",
   "metadata": {},
   "outputs": [],
   "source": [
    "# X, y\n",
    "y = torch.tensor([0.5, 14.0, 15.0, 28.0, 11.0, 8.0, 3.0, -4.0, 6.0, 13.0, 21.0])\n",
    "\n",
    "t_u = torch.tensor([35.7, 55.9, 58.2, 81.9, 56.3, 48.9, 33.9, 21.8, 48.4, 60.4, 68.4])\n",
    "t_u_square = t_u ** 2\n",
    "\n",
    "X_T = torch.vstack((t_u_square, t_u))\n",
    "X = torch.transpose(X_T, 0, 1)\n",
    "\n",
    "train_indices, test_indices = get_X_split_indices(X, 0.2)\n",
    "X_train = X[train_indices]\n",
    "X_test = X[test_indices]\n",
    "y_train = y[train_indices]\n",
    "y_test = y[test_indices]\n",
    "\n",
    "train_indices, val_indices = get_X_split_indices(X_train, 0.25)\n",
    "X_train_temp = X_train\n",
    "X_train = X_train_temp[train_indices]\n",
    "X_val = X_train_temp[val_indices]\n",
    "y_train_temp = y_train\n",
    "y_train = y_train_temp[train_indices]\n",
    "y_val = y_train_temp[val_indices]\n",
    "\n",
    "scaler = StandardScaler()\n",
    "scaler.fit(X)\n",
    "X_scaled = torch.tensor(scaler.transform(X)).float()\n",
    "X_train_scaled = torch.tensor(scaler.transform(X_train)).float()\n",
    "X_test_scaled = torch.tensor(scaler.transform(X_test)).float()\n",
    "X_val_scaled = torch.tensor(scaler.transform(X_val)).float()\n",
    "\n",
    "X_train_scaled = torch.cat((X_train_scaled, torch.ones(X_train_scaled.size(dim=0), 1)), 1)\n",
    "X_test_scaled = torch.cat((X_test_scaled, torch.ones(X_test_scaled.size(dim=0), 1)), 1)\n",
    "X_val_scaled = torch.cat((X_val_scaled, torch.ones(X_val_scaled.size(dim=0), 1)), 1)"
   ]
  },
  {
   "cell_type": "code",
   "execution_count": 88,
   "id": "363fedcb",
   "metadata": {},
   "outputs": [],
   "source": [
    "# Theta\n",
    "weights = [1.0, 1.0, 0.0]\n",
    "Theta = torch.tensor(weights, requires_grad=True)\n",
    "\n",
    "#learning rate\n",
    "learning_rate = 1e-1\n",
    "\n",
    "#optimizer\n",
    "optimizer = optim.Adam([Theta], lr=learning_rate)\n",
    "\n",
    "# n_epochs\n",
    "n_epochs = 2000"
   ]
  },
  {
   "cell_type": "code",
   "execution_count": 89,
   "id": "0d14fea3",
   "metadata": {},
   "outputs": [
    {
     "name": "stdout",
     "output_type": "stream",
     "text": [
      "Epoch 1, Training loss 231.3545,  Validation loss 3.3405\n",
      "Epoch 2, Training loss 223.8625,  Validation loss 3.4694\n",
      "Epoch 3, Training loss 216.5068,  Validation loss 3.6632\n",
      "Epoch 500, Training loss 2.3040,  Validation loss 1.9686\n",
      "Epoch 1000, Training loss 2.2587,  Validation loss 3.1958\n",
      "Epoch 1500, Training loss 2.1986,  Validation loss 5.6454\n",
      "Epoch 2000, Training loss 2.1287,  Validation loss 9.8822\n"
     ]
    }
   ],
   "source": [
    "ret_Theta, train_predict, val_predict = training_loop(\n",
    "    optimizer=optimizer, \n",
    "    X_train=X_train_scaled, \n",
    "    y_train=y_train, \n",
    "    X_val=X_val_scaled, \n",
    "    y_val=y_val,\n",
    "    Theta=Theta,\n",
    "    n_epochs=n_epochs)"
   ]
  },
  {
   "cell_type": "code",
   "execution_count": 95,
   "id": "3de143c6",
   "metadata": {},
   "outputs": [
    {
     "name": "stdout",
     "output_type": "stream",
     "text": [
      "Test loss: 9.698576927185059\n"
     ]
    }
   ],
   "source": [
    "X_test_predict = model(X_test_scaled, ret_Theta)\n",
    "test_loss = loss_fn(X_test_predict, y_test)\n",
    "print(\"Test loss: {0}\".format(test_loss))"
   ]
  },
  {
   "cell_type": "code",
   "execution_count": 94,
   "id": "d0b49ad6",
   "metadata": {},
   "outputs": [
    {
     "data": {
      "image/png": "[encoded data removed]",
      "text/plain": [
       "<Figure size 432x288 with 1 Axes>"
      ]
     },
     "metadata": {
      "needs_background": "light"
     },
     "output_type": "display_data"
    }
   ],
   "source": [
    "plt.title('real vs predict')\n",
    "plt.plot(X_train_scaled[:, 1], y_train, 'bo', label='train')\n",
    "plt.plot(X_val_scaled[:, 1], y_val, 'go', label='val')\n",
    "plt.plot(X_test_scaled[:, 1], y_test, 'ro', label='test')\n",
    "b = [ret_Theta[0] * x_squared + ret_Theta[1] * x + ret_Theta[2] for x_squared, x in X_scaled[:, 0:]]\n",
    "plt.plot(a, b, c='m', label='predict')\n",
    "plt.legend(loc='upper right')\n",
    "plt.show()"
   ]
  },
  {
   "cell_type": "code",
   "execution_count": 92,
   "id": "b9102e69",
   "metadata": {},
   "outputs": [
    {
     "data": {
      "image/png": "[encoded data removed]",
      "text/plain": [
       "<Figure size 432x288 with 1 Axes>"
      ]
     },
     "metadata": {
      "needs_background": "light"
     },
     "output_type": "display_data"
    }
   ],
   "source": [
    "plt.title('loss')\n",
    "plt.plot(train_predict, c='g', label='train')\n",
    "plt.plot(val_predict, c='r', label='val')\n",
    "plt.legend(loc='upper right')\n",
    "plt.show()"
   ]
  }
 ],
 "metadata": {
  "kernelspec": {
   "display_name": "Python 3 (ipykernel)",
   "language": "python",
   "name": "python3"
  },
  "language_info": {
   "codemirror_mode": {
    "name": "ipython",
    "version": 3
   },
   "file_extension": ".py",
   "mimetype": "text/x-python",
   "name": "python",
   "nbconvert_exporter": "python",
   "pygments_lexer": "ipython3",
   "version": "3.8.12"
  }
 },
 "nbformat": 4,
 "nbformat_minor": 5
}
