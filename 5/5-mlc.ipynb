{
 "cells": [
  {
   "cell_type": "code",
   "execution_count": 21,
   "id": "8fef4520",
   "metadata": {},
   "outputs": [],
   "source": [
    "import numpy as np\n",
    "import pandas as pd\n",
    "import seaborn as sns\n",
    "from tqdm.notebook import tqdm\n",
    "import matplotlib.pyplot as plt\n",
    "\n",
    "import torch\n",
    "import torch.nn as nn\n",
    "import torch.optim as optim\n",
    "from torch.utils.data import Dataset, DataLoader, WeightedRandomSampler\n",
    "from torchsampler import ImbalancedDatasetSampler\n",
    "\n",
    "from sklearn.preprocessing import StandardScaler    \n",
    "from sklearn.model_selection import train_test_split\n",
    "from sklearn.metrics import confusion_matrix, classification_report"
   ]
  },
  {
   "cell_type": "code",
   "execution_count": 22,
   "id": "ecbbdec1",
   "metadata": {},
   "outputs": [
    {
     "data": {
      "text/html": [
       "<div>\n",
       "<style scoped>\n",
       "    .dataframe tbody tr th:only-of-type {\n",
       "        vertical-align: middle;\n",
       "    }\n",
       "\n",
       "    .dataframe tbody tr th {\n",
       "        vertical-align: top;\n",
       "    }\n",
       "\n",
       "    .dataframe thead th {\n",
       "        text-align: right;\n",
       "    }\n",
       "</style>\n",
       "<table border=\"1\" class=\"dataframe\">\n",
       "  <thead>\n",
       "    <tr style=\"text-align: right;\">\n",
       "      <th></th>\n",
       "      <th>fixed acidity</th>\n",
       "      <th>volatile acidity</th>\n",
       "      <th>citric acid</th>\n",
       "      <th>residual sugar</th>\n",
       "      <th>chlorides</th>\n",
       "      <th>free sulfur dioxide</th>\n",
       "      <th>total sulfur dioxide</th>\n",
       "      <th>density</th>\n",
       "      <th>pH</th>\n",
       "      <th>sulphates</th>\n",
       "      <th>alcohol</th>\n",
       "      <th>quality</th>\n",
       "    </tr>\n",
       "  </thead>\n",
       "  <tbody>\n",
       "    <tr>\n",
       "      <th>0</th>\n",
       "      <td>7.0</td>\n",
       "      <td>0.27</td>\n",
       "      <td>0.36</td>\n",
       "      <td>20.7</td>\n",
       "      <td>0.045</td>\n",
       "      <td>45.0</td>\n",
       "      <td>170.0</td>\n",
       "      <td>1.00100</td>\n",
       "      <td>3.00</td>\n",
       "      <td>0.45</td>\n",
       "      <td>8.8</td>\n",
       "      <td>6</td>\n",
       "    </tr>\n",
       "    <tr>\n",
       "      <th>1</th>\n",
       "      <td>6.3</td>\n",
       "      <td>0.30</td>\n",
       "      <td>0.34</td>\n",
       "      <td>1.6</td>\n",
       "      <td>0.049</td>\n",
       "      <td>14.0</td>\n",
       "      <td>132.0</td>\n",
       "      <td>0.99400</td>\n",
       "      <td>3.30</td>\n",
       "      <td>0.49</td>\n",
       "      <td>9.5</td>\n",
       "      <td>6</td>\n",
       "    </tr>\n",
       "    <tr>\n",
       "      <th>2</th>\n",
       "      <td>8.1</td>\n",
       "      <td>0.28</td>\n",
       "      <td>0.40</td>\n",
       "      <td>6.9</td>\n",
       "      <td>0.050</td>\n",
       "      <td>30.0</td>\n",
       "      <td>97.0</td>\n",
       "      <td>0.99510</td>\n",
       "      <td>3.26</td>\n",
       "      <td>0.44</td>\n",
       "      <td>10.1</td>\n",
       "      <td>6</td>\n",
       "    </tr>\n",
       "    <tr>\n",
       "      <th>3</th>\n",
       "      <td>7.2</td>\n",
       "      <td>0.23</td>\n",
       "      <td>0.32</td>\n",
       "      <td>8.5</td>\n",
       "      <td>0.058</td>\n",
       "      <td>47.0</td>\n",
       "      <td>186.0</td>\n",
       "      <td>0.99560</td>\n",
       "      <td>3.19</td>\n",
       "      <td>0.40</td>\n",
       "      <td>9.9</td>\n",
       "      <td>6</td>\n",
       "    </tr>\n",
       "    <tr>\n",
       "      <th>4</th>\n",
       "      <td>7.2</td>\n",
       "      <td>0.23</td>\n",
       "      <td>0.32</td>\n",
       "      <td>8.5</td>\n",
       "      <td>0.058</td>\n",
       "      <td>47.0</td>\n",
       "      <td>186.0</td>\n",
       "      <td>0.99560</td>\n",
       "      <td>3.19</td>\n",
       "      <td>0.40</td>\n",
       "      <td>9.9</td>\n",
       "      <td>6</td>\n",
       "    </tr>\n",
       "    <tr>\n",
       "      <th>...</th>\n",
       "      <td>...</td>\n",
       "      <td>...</td>\n",
       "      <td>...</td>\n",
       "      <td>...</td>\n",
       "      <td>...</td>\n",
       "      <td>...</td>\n",
       "      <td>...</td>\n",
       "      <td>...</td>\n",
       "      <td>...</td>\n",
       "      <td>...</td>\n",
       "      <td>...</td>\n",
       "      <td>...</td>\n",
       "    </tr>\n",
       "    <tr>\n",
       "      <th>4893</th>\n",
       "      <td>6.2</td>\n",
       "      <td>0.21</td>\n",
       "      <td>0.29</td>\n",
       "      <td>1.6</td>\n",
       "      <td>0.039</td>\n",
       "      <td>24.0</td>\n",
       "      <td>92.0</td>\n",
       "      <td>0.99114</td>\n",
       "      <td>3.27</td>\n",
       "      <td>0.50</td>\n",
       "      <td>11.2</td>\n",
       "      <td>6</td>\n",
       "    </tr>\n",
       "    <tr>\n",
       "      <th>4894</th>\n",
       "      <td>6.6</td>\n",
       "      <td>0.32</td>\n",
       "      <td>0.36</td>\n",
       "      <td>8.0</td>\n",
       "      <td>0.047</td>\n",
       "      <td>57.0</td>\n",
       "      <td>168.0</td>\n",
       "      <td>0.99490</td>\n",
       "      <td>3.15</td>\n",
       "      <td>0.46</td>\n",
       "      <td>9.6</td>\n",
       "      <td>5</td>\n",
       "    </tr>\n",
       "    <tr>\n",
       "      <th>4895</th>\n",
       "      <td>6.5</td>\n",
       "      <td>0.24</td>\n",
       "      <td>0.19</td>\n",
       "      <td>1.2</td>\n",
       "      <td>0.041</td>\n",
       "      <td>30.0</td>\n",
       "      <td>111.0</td>\n",
       "      <td>0.99254</td>\n",
       "      <td>2.99</td>\n",
       "      <td>0.46</td>\n",
       "      <td>9.4</td>\n",
       "      <td>6</td>\n",
       "    </tr>\n",
       "    <tr>\n",
       "      <th>4896</th>\n",
       "      <td>5.5</td>\n",
       "      <td>0.29</td>\n",
       "      <td>0.30</td>\n",
       "      <td>1.1</td>\n",
       "      <td>0.022</td>\n",
       "      <td>20.0</td>\n",
       "      <td>110.0</td>\n",
       "      <td>0.98869</td>\n",
       "      <td>3.34</td>\n",
       "      <td>0.38</td>\n",
       "      <td>12.8</td>\n",
       "      <td>7</td>\n",
       "    </tr>\n",
       "    <tr>\n",
       "      <th>4897</th>\n",
       "      <td>6.0</td>\n",
       "      <td>0.21</td>\n",
       "      <td>0.38</td>\n",
       "      <td>0.8</td>\n",
       "      <td>0.020</td>\n",
       "      <td>22.0</td>\n",
       "      <td>98.0</td>\n",
       "      <td>0.98941</td>\n",
       "      <td>3.26</td>\n",
       "      <td>0.32</td>\n",
       "      <td>11.8</td>\n",
       "      <td>6</td>\n",
       "    </tr>\n",
       "  </tbody>\n",
       "</table>\n",
       "<p>4898 rows × 12 columns</p>\n",
       "</div>"
      ],
      "text/plain": [
       "      fixed acidity  volatile acidity  citric acid  residual sugar  chlorides  \\\n",
       "0               7.0              0.27         0.36            20.7      0.045   \n",
       "1               6.3              0.30         0.34             1.6      0.049   \n",
       "2               8.1              0.28         0.40             6.9      0.050   \n",
       "3               7.2              0.23         0.32             8.5      0.058   \n",
       "4               7.2              0.23         0.32             8.5      0.058   \n",
       "...             ...               ...          ...             ...        ...   \n",
       "4893            6.2              0.21         0.29             1.6      0.039   \n",
       "4894            6.6              0.32         0.36             8.0      0.047   \n",
       "4895            6.5              0.24         0.19             1.2      0.041   \n",
       "4896            5.5              0.29         0.30             1.1      0.022   \n",
       "4897            6.0              0.21         0.38             0.8      0.020   \n",
       "\n",
       "      free sulfur dioxide  total sulfur dioxide  density    pH  sulphates  \\\n",
       "0                    45.0                 170.0  1.00100  3.00       0.45   \n",
       "1                    14.0                 132.0  0.99400  3.30       0.49   \n",
       "2                    30.0                  97.0  0.99510  3.26       0.44   \n",
       "3                    47.0                 186.0  0.99560  3.19       0.40   \n",
       "4                    47.0                 186.0  0.99560  3.19       0.40   \n",
       "...                   ...                   ...      ...   ...        ...   \n",
       "4893                 24.0                  92.0  0.99114  3.27       0.50   \n",
       "4894                 57.0                 168.0  0.99490  3.15       0.46   \n",
       "4895                 30.0                 111.0  0.99254  2.99       0.46   \n",
       "4896                 20.0                 110.0  0.98869  3.34       0.38   \n",
       "4897                 22.0                  98.0  0.98941  3.26       0.32   \n",
       "\n",
       "      alcohol  quality  \n",
       "0         8.8        6  \n",
       "1         9.5        6  \n",
       "2        10.1        6  \n",
       "3         9.9        6  \n",
       "4         9.9        6  \n",
       "...       ...      ...  \n",
       "4893     11.2        6  \n",
       "4894      9.6        5  \n",
       "4895      9.4        6  \n",
       "4896     12.8        7  \n",
       "4897     11.8        6  \n",
       "\n",
       "[4898 rows x 12 columns]"
      ]
     },
     "execution_count": 22,
     "metadata": {},
     "output_type": "execute_result"
    }
   ],
   "source": [
    "wine_path = './winequality-white.csv'\n",
    "wine_df = pd.read_csv(wine_path, delimiter=';')\n",
    "wine_df"
   ]
  },
  {
   "cell_type": "code",
   "execution_count": 23,
   "id": "6c4a9229",
   "metadata": {},
   "outputs": [
    {
     "data": {
      "text/plain": [
       "<AxesSubplot:xlabel='quality', ylabel='count'>"
      ]
     },
     "execution_count": 23,
     "metadata": {},
     "output_type": "execute_result"
    },
    {
     "data": {
      "image/png": "[encoded data removed]",
      "text/plain": [
       "<Figure size 432x288 with 1 Axes>"
      ]
     },
     "metadata": {
      "needs_background": "light"
     },
     "output_type": "display_data"
    }
   ],
   "source": [
    "sns.countplot(x = 'quality', data=wine_df)"
   ]
  },
  {
   "cell_type": "code",
   "execution_count": 24,
   "id": "e232a59d",
   "metadata": {},
   "outputs": [],
   "source": [
    "# Multiclass classification의 target은 [0, n]\n",
    "# 현재 데이터셋의 target 범위는 [3, 9]\n",
    "# target 범위 [0, 6]으로 조정하기\n",
    "class2idx = {\n",
    "    3:0,\n",
    "    4:1,\n",
    "    5:2,\n",
    "    6:3,\n",
    "    7:4,\n",
    "    8:5,\n",
    "    9:6\n",
    "}\n",
    "\n",
    "idx2class = {v:k for k, v in class2idx.items()}\n",
    "\n",
    "wine_df['quality'].replace(class2idx, inplace=True)"
   ]
  },
  {
   "cell_type": "code",
   "execution_count": 25,
   "id": "ff9e85a5",
   "metadata": {},
   "outputs": [],
   "source": [
    "# 마지막 컬럼은 target\n",
    "X = wine_df.iloc[:, 0:-1]\n",
    "y = wine_df.iloc[:, -1]"
   ]
  },
  {
   "cell_type": "code",
   "execution_count": 26,
   "id": "afb8da21",
   "metadata": {},
   "outputs": [],
   "source": [
    "# train, val, test 분리\n",
    "# 6:2:2\n",
    "X_train_val, X_test, y_train_val, y_test = train_test_split(X, y, stratify=y, test_size=0.2, random_state=42)\n",
    "X_train, X_val, y_train, y_val = train_test_split(X_train_val, y_train_val, stratify=y_train_val, test_size=0.25, random_state=42)"
   ]
  },
  {
   "cell_type": "code",
   "execution_count": 27,
   "id": "6cb8e4bf",
   "metadata": {},
   "outputs": [],
   "source": [
    "# input 정규화\n",
    "scaler = StandardScaler()\n",
    "X_train_scaled = torch.tensor(scaler.fit_transform(X_train))\n",
    "X_val_scaled = torch.tensor(scaler.transform(X_val))\n",
    "X_test_scaled = torch.tensor(scaler.transform(X_test))"
   ]
  },
  {
   "cell_type": "code",
   "execution_count": 28,
   "id": "ba350171",
   "metadata": {},
   "outputs": [],
   "source": [
    "y_train = torch.tensor(np.array(y_train))\n",
    "y_val = torch.tensor(np.array(y_val))\n",
    "y_test = torch.tensor(np.array(y_test))"
   ]
  },
  {
   "cell_type": "code",
   "execution_count": 29,
   "id": "f8095555",
   "metadata": {},
   "outputs": [],
   "source": [
    "# target의 class별 데이터분포 계산\n",
    "def get_class_distribution(obj):\n",
    "    count_dict = {\n",
    "        '3': 0,\n",
    "        '4': 0,\n",
    "        '5': 0,\n",
    "        '6': 0,\n",
    "        '7': 0,\n",
    "        '8': 0,\n",
    "        '9': 0\n",
    "    }\n",
    "    \n",
    "    for i in obj:\n",
    "        if i == 0: \n",
    "            count_dict['3'] += 1\n",
    "        elif i == 1: \n",
    "            count_dict['4'] += 1\n",
    "        elif i == 2: \n",
    "            count_dict['5'] += 1\n",
    "        elif i == 3: \n",
    "            count_dict['6'] += 1\n",
    "        elif i == 4: \n",
    "            count_dict['7'] += 1  \n",
    "        elif i == 5: \n",
    "            count_dict['8'] += 1              \n",
    "        elif i == 6: \n",
    "            count_dict['9'] += 1              \n",
    "        else:\n",
    "            print('oops...')\n",
    "            \n",
    "    return count_dict"
   ]
  },
  {
   "cell_type": "code",
   "execution_count": 30,
   "id": "0fe443fd",
   "metadata": {},
   "outputs": [],
   "source": [
    "# pytorch Dataset 만들기\n",
    "class CustomDataset(Dataset):\n",
    "    def __init__(self, X_data, y_data):\n",
    "        self.X_data = X_data\n",
    "        self.y_data = y_data\n",
    "        \n",
    "    def __getitem__(self, index):\n",
    "        return self.X_data[index], self.y_data[index]\n",
    "        \n",
    "    def __len__ (self):\n",
    "        return len(self.X_data)\n",
    "    \n",
    "train_dataset = CustomDataset(X_train_scaled.float(), y_train.long())\n",
    "val_dataset = CustomDataset(X_val_scaled.float(), y_val.long())\n",
    "test_dataset = CustomDataset(X_test_scaled.float(), y_test.long())"
   ]
  },
  {
   "cell_type": "code",
   "execution_count": 31,
   "id": "227fa67c",
   "metadata": {},
   "outputs": [],
   "source": [
    "# 오버샘플링에 사용할 sampler 만들기\n",
    "# val, test는 모델 평가용 set이므로 오버샘플링 안해도 됨\n",
    "target_list = torch.tensor([target for target in train_dataset.y_data])"
   ]
  },
  {
   "cell_type": "code",
   "execution_count": 32,
   "id": "06abc64f",
   "metadata": {},
   "outputs": [],
   "source": [
    "class_count = [i for i in get_class_distribution(y_train).values()]\n",
    "class_weights = 1.0 / torch.tensor(class_count, dtype=torch.float)\n",
    "class_weights_all = class_weights[target_list]"
   ]
  },
  {
   "cell_type": "code",
   "execution_count": 33,
   "id": "0b52b927",
   "metadata": {},
   "outputs": [],
   "source": [
    "# WeightedRandomSampler\n",
    "weighted_sampler = WeightedRandomSampler(\n",
    "    weights=class_weights_all,\n",
    "    num_samples=len(class_weights_all),\n",
    "    replacement=True)"
   ]
  },
  {
   "cell_type": "code",
   "execution_count": 34,
   "id": "06274e1b",
   "metadata": {},
   "outputs": [],
   "source": [
    "# 모델 하이퍼파라미터\n",
    "EPOCHS = 4000\n",
    "BATCH_SIZE = 512\n",
    "LEARNING_RATE = 0.0017\n",
    "\n",
    "NUM_FEATURES = len(X.columns)\n",
    "NUM_CLASSES = 7"
   ]
  },
  {
   "cell_type": "code",
   "execution_count": 35,
   "id": "b30a9d5c",
   "metadata": {},
   "outputs": [],
   "source": [
    "# pytorch DataLoader\n",
    "# 오버샘플링 한 train_loader\n",
    "# train_loader = DataLoader(dataset=train_dataset, batch_size=BATCH_SIZE, sampler=weighted_sampler)\n",
    "# 오버샘플링 안한 train_loader\n",
    "train_loader = DataLoader(dataset=train_dataset, batch_size=BATCH_SIZE)\n",
    "val_loader = DataLoader(dataset=val_dataset, batch_size=BATCH_SIZE)\n",
    "test_loader = DataLoader(dataset=test_dataset, batch_size=1)"
   ]
  },
  {
   "cell_type": "code",
   "execution_count": 36,
   "id": "27773018",
   "metadata": {},
   "outputs": [],
   "source": [
    "# pytorch model\n",
    "class MulticlassClassification(nn.Module):\n",
    "    def __init__(self, num_features, num_classes):\n",
    "        super(MulticlassClassification, self).__init__()\n",
    "        \n",
    "        self.layer_1 = nn.Linear(num_features, 512)\n",
    "        self.layer_2 = nn.Linear(512, 128)\n",
    "        self.layer_3 = nn.Linear(128, 64)\n",
    "        self.layer_out = nn.Linear(64, num_classes) \n",
    "        \n",
    "        self.relu = nn.ReLU()\n",
    "        self.dropout = nn.Dropout(p=0.4)\n",
    "        self.batchnorm1 = nn.BatchNorm1d(512)\n",
    "        self.batchnorm2 = nn.BatchNorm1d(128)\n",
    "        self.batchnorm3 = nn.BatchNorm1d(64)\n",
    "        \n",
    "    def forward(self, x):\n",
    "        x = self.layer_1(x)\n",
    "        x = self.batchnorm1(x)\n",
    "        x = self.relu(x)\n",
    "        \n",
    "        x = self.layer_2(x)\n",
    "        x = self.batchnorm2(x)\n",
    "        x = self.relu(x)\n",
    "        x = self.dropout(x)\n",
    "        \n",
    "        x = self.layer_3(x)\n",
    "        x = self.batchnorm3(x)\n",
    "        x = self.relu(x)\n",
    "        \n",
    "        x = self.layer_out(x)\n",
    "        \n",
    "        return x"
   ]
  },
  {
   "cell_type": "code",
   "execution_count": 37,
   "id": "82f5cc92",
   "metadata": {},
   "outputs": [
    {
     "name": "stdout",
     "output_type": "stream",
     "text": [
      "cuda:0\n"
     ]
    }
   ],
   "source": [
    "# nvidia cuda 사용\n",
    "device = torch.device('cuda:0' if torch.cuda.is_available() else 'cpu')\n",
    "\n",
    "print(device)"
   ]
  },
  {
   "cell_type": "code",
   "execution_count": 38,
   "id": "6b1d4f70",
   "metadata": {},
   "outputs": [],
   "source": [
    "# 모델 생성\n",
    "model = MulticlassClassification(num_features=NUM_FEATURES, num_classes=NUM_CLASSES)\n",
    "\n",
    "model.to(device)\n",
    "\n",
    "# multiclass classification loss\n",
    "# softmax 포함됨\n",
    "criterion = nn.CrossEntropyLoss(weight=class_weights.to(device))\n",
    "# optimizer adam\n",
    "optimizer = optim.Adam(model.parameters(), lr=LEARNING_RATE)\n",
    "# learning rate decay\n",
    "scheduler = optim.lr_scheduler.ExponentialLR(optimizer, gamma=0.999)"
   ]
  },
  {
   "cell_type": "code",
   "execution_count": 39,
   "id": "9ecf70a9",
   "metadata": {},
   "outputs": [],
   "source": [
    "# 예측 정확도 계산 함수\n",
    "def multi_accuracy(y_pred, y_target):\n",
    "    y_pred_softmax = torch.log_softmax(y_pred, dim=1)\n",
    "    _, y_pred_tags = torch.max(y_pred_softmax, dim=1)\n",
    "    \n",
    "    correct_pred = (y_pred_tags == y_target).float()\n",
    "    accuracy = correct_pred.sum() / len(correct_pred)\n",
    "    \n",
    "    accuracy *= 100.0\n",
    "    \n",
    "    return accuracy"
   ]
  },
  {
   "cell_type": "code",
   "execution_count": 40,
   "id": "98996092",
   "metadata": {},
   "outputs": [
    {
     "data": {
      "application/vnd.jupyter.widget-view+json": {
       "model_id": "82f0b1de974447498307579b6d89ab63",
       "version_major": 2,
       "version_minor": 0
      },
      "text/plain": [
       "  0%|          | 0/4000 [00:00<?, ?it/s]"
      ]
     },
     "metadata": {},
     "output_type": "display_data"
    },
    {
     "name": "stdout",
     "output_type": "stream",
     "text": [
      "Epoch 0001: | Train Loss: 2.0001 | Val Loss: 1.8345 | Train Acc: 12.47| Val Acc: 31.60\n",
      "Epoch 0002: | Train Loss: 1.6699 | Val Loss: 1.6877 | Train Acc: 23.81| Val Acc: 29.18\n",
      "Epoch 0003: | Train Loss: 1.5653 | Val Loss: 1.5712 | Train Acc: 27.82| Val Acc: 24.66\n",
      "Epoch 0500: | Train Loss: 0.0878 | Val Loss: 5.1492 | Train Acc: 92.46| Val Acc: 60.29\n",
      "Epoch 1000: | Train Loss: 0.0184 | Val Loss: 6.9619 | Train Acc: 98.33| Val Acc: 61.00\n",
      "Epoch 1500: | Train Loss: 0.0080 | Val Loss: 8.4741 | Train Acc: 99.51| Val Acc: 62.00\n",
      "Epoch 2000: | Train Loss: 0.0054 | Val Loss: 8.8481 | Train Acc: 99.57| Val Acc: 62.52\n",
      "Epoch 2500: | Train Loss: 0.0051 | Val Loss: 9.4246 | Train Acc: 99.53| Val Acc: 62.03\n",
      "Epoch 3000: | Train Loss: 0.0023 | Val Loss: 9.7662 | Train Acc: 99.84| Val Acc: 62.37\n",
      "Epoch 3500: | Train Loss: 0.0029 | Val Loss: 9.8676 | Train Acc: 99.74| Val Acc: 61.93\n",
      "Epoch 4000: | Train Loss: 0.0022 | Val Loss: 10.0719 | Train Acc: 99.84| Val Acc: 61.83\n"
     ]
    }
   ],
   "source": [
    "for epoch in tqdm(range(1, EPOCHS + 1)):\n",
    "    train_epoch_loss = 0.0\n",
    "    train_epoch_accuracy = 0.0\n",
    "    \n",
    "    model.train()\n",
    "    for X_train_batch, y_train_batch in train_loader:\n",
    "        X_train_batch, y_train_batch = X_train_batch.to(device), y_train_batch.to(device)\n",
    "        \n",
    "        y_train_pred = model(X_train_batch)\n",
    "        \n",
    "        train_loss = criterion(y_train_pred, y_train_batch)\n",
    "        train_accuracy = multi_accuracy(y_train_pred, y_train_batch)\n",
    "        \n",
    "        for param in model.parameters():\n",
    "            param.grad = None\n",
    "        train_loss.backward()\n",
    "        optimizer.step()\n",
    "        \n",
    "        train_epoch_loss += train_loss.item()\n",
    "        train_epoch_accuracy += train_accuracy.item()\n",
    "        \n",
    "        \n",
    "    scheduler.step()\n",
    "        \n",
    "    with torch.no_grad():\n",
    "        val_epoch_loss = 0.0\n",
    "        val_epoch_accuracy = 0.0\n",
    "\n",
    "        model.eval()\n",
    "        for X_val_batch, y_val_batch in val_loader:\n",
    "            X_val_batch, y_val_batch = X_val_batch.to(device), y_val_batch.to(device)\n",
    "\n",
    "            y_val_pred = model(X_val_batch)\n",
    "\n",
    "            val_loss = criterion(y_val_pred, y_val_batch)\n",
    "            val_accuracy = multi_accuracy(y_val_pred, y_val_batch)\n",
    "\n",
    "            val_epoch_loss += val_loss.item()\n",
    "            val_epoch_accuracy += val_accuracy.item()\n",
    "            \n",
    "    mean_train_accuracy = train_epoch_accuracy / len(train_loader)\n",
    "    mean_val_accuracy = val_epoch_accuracy / len(val_loader)\n",
    "    mean_train_loss = train_epoch_loss / len(train_loader)\n",
    "    mean_val_loss = val_epoch_loss / len(val_loader)\n",
    "    \n",
    "    if epoch < 4 or epoch % 500 == 0:\n",
    "        print(f'Epoch {epoch+0:04}: | Train Loss: {mean_train_loss:.4f} | Val Loss: {mean_val_loss:.4f} | Train Acc: {mean_train_accuracy:.2f}| Val Acc: {mean_val_accuracy:.2f}')"
   ]
  },
  {
   "cell_type": "code",
   "execution_count": 41,
   "id": "01441cd4",
   "metadata": {},
   "outputs": [],
   "source": [
    "# test model\n",
    "y_test_pred_list = []\n",
    "\n",
    "with torch.no_grad():\n",
    "    model.eval()\n",
    "    for X_test_batch, _ in test_loader:\n",
    "        X_test_batch = X_test_batch.to(device)\n",
    "        y_test_pred = model(X_test_batch)\n",
    "        y_test_pred_softmax = torch.log_softmax(y_test_pred, dim=1)\n",
    "        _, y_test_pred_tags = torch.max(y_test_pred_softmax, dim = 1)\n",
    "        y_test_pred_list.append(y_test_pred_tags.cpu().numpy())\n",
    "        \n",
    "y_test_pred_list = [a.squeeze().tolist() for a in y_test_pred_list]"
   ]
  },
  {
   "cell_type": "code",
   "execution_count": 42,
   "id": "12c7b20f",
   "metadata": {},
   "outputs": [
    {
     "data": {
      "text/plain": [
       "Text(33.0, 0.5, 'Real')"
      ]
     },
     "execution_count": 42,
     "metadata": {},
     "output_type": "execute_result"
    },
    {
     "data": {
      "image/png": "[encoded data removed]",
      "text/plain": [
       "<Figure size 432x288 with 2 Axes>"
      ]
     },
     "metadata": {
      "needs_background": "light"
     },
     "output_type": "display_data"
    }
   ],
   "source": [
    "# test 결과 시각화\n",
    "confusion_matrix_df = pd.DataFrame(confusion_matrix(y_test, y_test_pred_list)).rename(columns=idx2class, index=idx2class)\n",
    "\n",
    "ax = plt.subplot()\n",
    "\n",
    "sns.heatmap(confusion_matrix_df, annot=True)\n",
    "\n",
    "ax.set_xlabel('Predict')\n",
    "ax.set_ylabel('Real')"
   ]
  },
  {
   "cell_type": "code",
   "execution_count": 43,
   "id": "6c0762a2",
   "metadata": {},
   "outputs": [
    {
     "name": "stdout",
     "output_type": "stream",
     "text": [
      "Test accuracy:  tensor(61.1224)\n"
     ]
    }
   ],
   "source": [
    "# test 정확도 계산\n",
    "correct_pred = (y_test == torch.tensor(y_test_pred_list))\n",
    "\n",
    "accuracy = correct_pred.sum() / len(correct_pred)\n",
    "\n",
    "accuracy *= 100.0\n",
    "\n",
    "print('Test accuracy: ', accuracy)"
   ]
  }
 ],
 "metadata": {
  "kernelspec": {
   "display_name": "Python 3 (ipykernel)",
   "language": "python",
   "name": "python3"
  },
  "language_info": {
   "codemirror_mode": {
    "name": "ipython",
    "version": 3
   },
   "file_extension": ".py",
   "mimetype": "text/x-python",
   "name": "python",
   "nbconvert_exporter": "python",
   "pygments_lexer": "ipython3",
   "version": "3.8.12"
  }
 },
 "nbformat": 4,
 "nbformat_minor": 5
}
